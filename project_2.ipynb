{
 "cells": [
  {
   "cell_type": "markdown",
   "metadata": {},
   "source": [
    "# MATH 210 Project 2\n",
    "## Mathematic Modeling of a Mechanical Light Switch\n",
    "\n",
    "Project members:\n",
    "\n",
    "* William Kendrick: 725 875 12\n",
    "* Alessandro Adami: 324 419 74\n",
    "* Sean Donaghy: 935 919 23"
   ]
  },
  {
   "cell_type": "markdown",
   "metadata": {},
   "source": []
  }
 ],
 "metadata": {
  "language_info": {
   "name": "python"
  }
 },
 "nbformat": 4,
 "nbformat_minor": 2
}
